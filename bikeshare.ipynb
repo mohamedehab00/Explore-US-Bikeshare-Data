{
 "cells": [
  {
   "cell_type": "code",
   "execution_count": 1,
   "metadata": {},
   "outputs": [],
   "source": [
    "import time\n",
    "import pandas as pd\n",
    "import numpy as np"
   ]
  },
  {
   "cell_type": "code",
   "execution_count": 165,
   "metadata": {},
   "outputs": [
    {
     "name": "stdout",
     "output_type": "stream",
     "text": [
      "Hello! Let's explore some US bikeshare data!\n",
      "Enter the name of the city to analyze (chicago, new york city, washington) : new york city\n",
      "Enter the name of the month to filter by, or all to apply no month filter (all, january, february, ... , june) : all\n",
      "Enter the name of the day of week to filter by, or all to apply no day filter (all, monday, tuesday, ... sunday) : all\n",
      "----------------------------------------\n"
     ]
    }
   ],
   "source": [
    "CITY_DATA = {'chicago': 'chicago.csv',\n",
    "             'new york city': 'new_york_city.csv',\n",
    "             'washington': 'washington.csv'}\n",
    "\n",
    "def get_filters():\n",
    "    \"\"\"\n",
    "    Asks user to specify a city, month, and day to analyze.\n",
    "\n",
    "    Returns:\n",
    "        (str) city - name of the city to analyze\n",
    "        (str) month - name of the month to filter by, or \"all\" to apply no month filter\n",
    "        (str) day - name of the day of week to filter by, or \"all\" to apply no day filter\n",
    "    \"\"\"\n",
    "    print('Hello! Let\\'s explore some US bikeshare data!')\n",
    "    cities = ('chicago', 'new york city', 'washington')\n",
    "    months = ('all', 'january', 'february', 'march', 'april', 'may', 'june')\n",
    "    days = ('all', 'monday', 'tuesday', 'wednesday', 'thursday', 'friday', 'saturday', 'sunday')\n",
    "    # TO DO: get user input for city (chicago, new york city, washington). HINT: Use a while loop to handle invalid inputs\n",
    "    city = input(\"Enter the name of the city to analyze (chicago, new york city, washington) : \").lower()\n",
    "    while city not in cities:\n",
    "        print(\"Enter a Valid Name!!\")\n",
    "        city = input(\"Enter the name of the city to analyze (chicago, new york city, washington) : \").lower()\n",
    "\n",
    "    # TO DO: get user input for month (all, january, february, ... , june)\n",
    "    month = input(\n",
    "        \"Enter the name of the month to filter by, or all to apply no month filter (all, january, february, ... , june) : \").lower()\n",
    "    while month not in months:\n",
    "        print(\"Enter a Valid Name!!\")\n",
    "        month = input(\n",
    "            \"Enter the name of the month to filter by, or all to apply no month filter (all, january, february, ... , june) : \").lower()\n",
    "\n",
    "    # TO DO: get user input for day of week (all, monday, tuesday, ... sunday)\n",
    "    day = input(\n",
    "        \"Enter the name of the day of week to filter by, or all to apply no day filter (all, monday, tuesday, ... sunday) : \").lower()\n",
    "    while day not in days:\n",
    "        print(\"Enter a Valid Name!!\")\n",
    "        day = input(\n",
    "            \"Enter the name of the day of week to filter by, or all to apply no day filter (all, monday, tuesday, ... sunday) : \").lower()\n",
    "\n",
    "    print('-' * 40)\n",
    "    return city, month, day\n",
    "\n",
    "city,month,day = get_filters()"
   ]
  },
  {
   "cell_type": "code",
   "execution_count": 166,
   "metadata": {},
   "outputs": [],
   "source": [
    "def load_data(city, month, day):\n",
    "    \"\"\"\n",
    "    Loads data for the specified city and filters by month and day if applicable.\n",
    "\n",
    "    Args:\n",
    "        (str) city - name of the city to analyze\n",
    "        (str) month - name of the month to filter by, or \"all\" to apply no month filter\n",
    "        (str) day - name of the day of week to filter by, or \"all\" to apply no day filter\n",
    "    Returns:\n",
    "        df - Pandas DataFrame containing city data filtered by month and day\n",
    "    \"\"\"\n",
    "    df = pd.read_csv(CITY_DATA[city])\n",
    "\n",
    "    df['Start Time'] = pd.to_datetime(df['Start Time'])\n",
    "\n",
    "    df['month'] = df['Start Time'].dt.month\n",
    "    df['day_of_week'] = df['Start Time'].dt.day_name()\n",
    "\n",
    "    if month != 'all':\n",
    "        months = ['january', 'february', 'march', 'april', 'may', 'june']\n",
    "        month = months.index(month) + 1\n",
    "        df = df[df['month'] == month]\n",
    "\n",
    "    if day != 'all':\n",
    "        df = df[df['day_of_week'] == day.title()]\n",
    "\n",
    "    return df"
   ]
  },
  {
   "cell_type": "code",
   "execution_count": 167,
   "metadata": {},
   "outputs": [],
   "source": [
    "df = load_data(city, month, day)"
   ]
  },
  {
   "cell_type": "code",
   "execution_count": 168,
   "metadata": {
    "scrolled": true
   },
   "outputs": [
    {
     "data": {
      "text/html": [
       "<div>\n",
       "<style scoped>\n",
       "    .dataframe tbody tr th:only-of-type {\n",
       "        vertical-align: middle;\n",
       "    }\n",
       "\n",
       "    .dataframe tbody tr th {\n",
       "        vertical-align: top;\n",
       "    }\n",
       "\n",
       "    .dataframe thead th {\n",
       "        text-align: right;\n",
       "    }\n",
       "</style>\n",
       "<table border=\"1\" class=\"dataframe\">\n",
       "  <thead>\n",
       "    <tr style=\"text-align: right;\">\n",
       "      <th></th>\n",
       "      <th>Unnamed: 0</th>\n",
       "      <th>Start Time</th>\n",
       "      <th>End Time</th>\n",
       "      <th>Trip Duration</th>\n",
       "      <th>Start Station</th>\n",
       "      <th>End Station</th>\n",
       "      <th>User Type</th>\n",
       "      <th>Gender</th>\n",
       "      <th>Birth Year</th>\n",
       "      <th>month</th>\n",
       "      <th>day_of_week</th>\n",
       "    </tr>\n",
       "  </thead>\n",
       "  <tbody>\n",
       "    <tr>\n",
       "      <th>0</th>\n",
       "      <td>5688089</td>\n",
       "      <td>2017-06-11 14:55:05</td>\n",
       "      <td>2017-06-11 15:08:21</td>\n",
       "      <td>795</td>\n",
       "      <td>Suffolk St &amp; Stanton St</td>\n",
       "      <td>W Broadway &amp; Spring St</td>\n",
       "      <td>Subscriber</td>\n",
       "      <td>Male</td>\n",
       "      <td>1998.0</td>\n",
       "      <td>6</td>\n",
       "      <td>Sunday</td>\n",
       "    </tr>\n",
       "    <tr>\n",
       "      <th>1</th>\n",
       "      <td>4096714</td>\n",
       "      <td>2017-05-11 15:30:11</td>\n",
       "      <td>2017-05-11 15:41:43</td>\n",
       "      <td>692</td>\n",
       "      <td>Lexington Ave &amp; E 63 St</td>\n",
       "      <td>1 Ave &amp; E 78 St</td>\n",
       "      <td>Subscriber</td>\n",
       "      <td>Male</td>\n",
       "      <td>1981.0</td>\n",
       "      <td>5</td>\n",
       "      <td>Thursday</td>\n",
       "    </tr>\n",
       "    <tr>\n",
       "      <th>2</th>\n",
       "      <td>2173887</td>\n",
       "      <td>2017-03-29 13:26:26</td>\n",
       "      <td>2017-03-29 13:48:31</td>\n",
       "      <td>1325</td>\n",
       "      <td>1 Pl &amp; Clinton St</td>\n",
       "      <td>Henry St &amp; Degraw St</td>\n",
       "      <td>Subscriber</td>\n",
       "      <td>Male</td>\n",
       "      <td>1987.0</td>\n",
       "      <td>3</td>\n",
       "      <td>Wednesday</td>\n",
       "    </tr>\n",
       "    <tr>\n",
       "      <th>3</th>\n",
       "      <td>3945638</td>\n",
       "      <td>2017-05-08 19:47:18</td>\n",
       "      <td>2017-05-08 19:59:01</td>\n",
       "      <td>703</td>\n",
       "      <td>Barrow St &amp; Hudson St</td>\n",
       "      <td>W 20 St &amp; 8 Ave</td>\n",
       "      <td>Subscriber</td>\n",
       "      <td>Female</td>\n",
       "      <td>1986.0</td>\n",
       "      <td>5</td>\n",
       "      <td>Monday</td>\n",
       "    </tr>\n",
       "    <tr>\n",
       "      <th>4</th>\n",
       "      <td>6208972</td>\n",
       "      <td>2017-06-21 07:49:16</td>\n",
       "      <td>2017-06-21 07:54:46</td>\n",
       "      <td>329</td>\n",
       "      <td>1 Ave &amp; E 44 St</td>\n",
       "      <td>E 53 St &amp; 3 Ave</td>\n",
       "      <td>Subscriber</td>\n",
       "      <td>Male</td>\n",
       "      <td>1992.0</td>\n",
       "      <td>6</td>\n",
       "      <td>Wednesday</td>\n",
       "    </tr>\n",
       "  </tbody>\n",
       "</table>\n",
       "</div>"
      ],
      "text/plain": [
       "   Unnamed: 0          Start Time             End Time  Trip Duration  \\\n",
       "0     5688089 2017-06-11 14:55:05  2017-06-11 15:08:21            795   \n",
       "1     4096714 2017-05-11 15:30:11  2017-05-11 15:41:43            692   \n",
       "2     2173887 2017-03-29 13:26:26  2017-03-29 13:48:31           1325   \n",
       "3     3945638 2017-05-08 19:47:18  2017-05-08 19:59:01            703   \n",
       "4     6208972 2017-06-21 07:49:16  2017-06-21 07:54:46            329   \n",
       "\n",
       "             Start Station             End Station   User Type  Gender  \\\n",
       "0  Suffolk St & Stanton St  W Broadway & Spring St  Subscriber    Male   \n",
       "1  Lexington Ave & E 63 St         1 Ave & E 78 St  Subscriber    Male   \n",
       "2        1 Pl & Clinton St    Henry St & Degraw St  Subscriber    Male   \n",
       "3    Barrow St & Hudson St         W 20 St & 8 Ave  Subscriber  Female   \n",
       "4          1 Ave & E 44 St         E 53 St & 3 Ave  Subscriber    Male   \n",
       "\n",
       "   Birth Year  month day_of_week  \n",
       "0      1998.0      6      Sunday  \n",
       "1      1981.0      5    Thursday  \n",
       "2      1987.0      3   Wednesday  \n",
       "3      1986.0      5      Monday  \n",
       "4      1992.0      6   Wednesday  "
      ]
     },
     "execution_count": 168,
     "metadata": {},
     "output_type": "execute_result"
    }
   ],
   "source": [
    "df.head()"
   ]
  },
  {
   "cell_type": "code",
   "execution_count": 169,
   "metadata": {},
   "outputs": [
    {
     "data": {
      "text/html": [
       "<div>\n",
       "<style scoped>\n",
       "    .dataframe tbody tr th:only-of-type {\n",
       "        vertical-align: middle;\n",
       "    }\n",
       "\n",
       "    .dataframe tbody tr th {\n",
       "        vertical-align: top;\n",
       "    }\n",
       "\n",
       "    .dataframe thead th {\n",
       "        text-align: right;\n",
       "    }\n",
       "</style>\n",
       "<table border=\"1\" class=\"dataframe\">\n",
       "  <thead>\n",
       "    <tr style=\"text-align: right;\">\n",
       "      <th></th>\n",
       "      <th>Unnamed: 0</th>\n",
       "      <th>Trip Duration</th>\n",
       "      <th>Birth Year</th>\n",
       "      <th>month</th>\n",
       "    </tr>\n",
       "  </thead>\n",
       "  <tbody>\n",
       "    <tr>\n",
       "      <th>count</th>\n",
       "      <td>3.000000e+05</td>\n",
       "      <td>3.000000e+05</td>\n",
       "      <td>271780.000000</td>\n",
       "      <td>300000.000000</td>\n",
       "    </tr>\n",
       "    <tr>\n",
       "      <th>mean</th>\n",
       "      <td>3.407026e+06</td>\n",
       "      <td>8.996842e+02</td>\n",
       "      <td>1978.254309</td>\n",
       "      <td>4.072557</td>\n",
       "    </tr>\n",
       "    <tr>\n",
       "      <th>std</th>\n",
       "      <td>1.965617e+06</td>\n",
       "      <td>5.710016e+03</td>\n",
       "      <td>11.848045</td>\n",
       "      <td>1.660916</td>\n",
       "    </tr>\n",
       "    <tr>\n",
       "      <th>min</th>\n",
       "      <td>3.300000e+01</td>\n",
       "      <td>6.100000e+01</td>\n",
       "      <td>1885.000000</td>\n",
       "      <td>1.000000</td>\n",
       "    </tr>\n",
       "    <tr>\n",
       "      <th>25%</th>\n",
       "      <td>1.707416e+06</td>\n",
       "      <td>3.680000e+02</td>\n",
       "      <td>1970.000000</td>\n",
       "      <td>3.000000</td>\n",
       "    </tr>\n",
       "    <tr>\n",
       "      <th>50%</th>\n",
       "      <td>3.405756e+06</td>\n",
       "      <td>6.090000e+02</td>\n",
       "      <td>1981.000000</td>\n",
       "      <td>4.000000</td>\n",
       "    </tr>\n",
       "    <tr>\n",
       "      <th>75%</th>\n",
       "      <td>5.108762e+06</td>\n",
       "      <td>1.054000e+03</td>\n",
       "      <td>1988.000000</td>\n",
       "      <td>6.000000</td>\n",
       "    </tr>\n",
       "    <tr>\n",
       "      <th>max</th>\n",
       "      <td>6.816152e+06</td>\n",
       "      <td>2.155775e+06</td>\n",
       "      <td>2001.000000</td>\n",
       "      <td>6.000000</td>\n",
       "    </tr>\n",
       "  </tbody>\n",
       "</table>\n",
       "</div>"
      ],
      "text/plain": [
       "         Unnamed: 0  Trip Duration     Birth Year          month\n",
       "count  3.000000e+05   3.000000e+05  271780.000000  300000.000000\n",
       "mean   3.407026e+06   8.996842e+02    1978.254309       4.072557\n",
       "std    1.965617e+06   5.710016e+03      11.848045       1.660916\n",
       "min    3.300000e+01   6.100000e+01    1885.000000       1.000000\n",
       "25%    1.707416e+06   3.680000e+02    1970.000000       3.000000\n",
       "50%    3.405756e+06   6.090000e+02    1981.000000       4.000000\n",
       "75%    5.108762e+06   1.054000e+03    1988.000000       6.000000\n",
       "max    6.816152e+06   2.155775e+06    2001.000000       6.000000"
      ]
     },
     "execution_count": 169,
     "metadata": {},
     "output_type": "execute_result"
    }
   ],
   "source": [
    "df.describe()"
   ]
  },
  {
   "cell_type": "code",
   "execution_count": 170,
   "metadata": {},
   "outputs": [
    {
     "name": "stdout",
     "output_type": "stream",
     "text": [
      "<class 'pandas.core.frame.DataFrame'>\n",
      "RangeIndex: 300000 entries, 0 to 299999\n",
      "Data columns (total 11 columns):\n",
      " #   Column         Non-Null Count   Dtype         \n",
      "---  ------         --------------   -----         \n",
      " 0   Unnamed: 0     300000 non-null  int64         \n",
      " 1   Start Time     300000 non-null  datetime64[ns]\n",
      " 2   End Time       300000 non-null  object        \n",
      " 3   Trip Duration  300000 non-null  int64         \n",
      " 4   Start Station  300000 non-null  object        \n",
      " 5   End Station    300000 non-null  object        \n",
      " 6   User Type      299308 non-null  object        \n",
      " 7   Gender         270791 non-null  object        \n",
      " 8   Birth Year     271780 non-null  float64       \n",
      " 9   month          300000 non-null  int64         \n",
      " 10  day_of_week    300000 non-null  object        \n",
      "dtypes: datetime64[ns](1), float64(1), int64(3), object(6)\n",
      "memory usage: 25.2+ MB\n"
     ]
    }
   ],
   "source": [
    "df.info()"
   ]
  },
  {
   "cell_type": "code",
   "execution_count": 171,
   "metadata": {},
   "outputs": [],
   "source": [
    "def time_stats(df):\n",
    "    \"\"\"Displays statistics on the most frequent times of travel.\"\"\"\n",
    "\n",
    "    print('\\nCalculating The Most Frequent Times of Travel...\\n')\n",
    "    start_time = time.time()\n",
    "\n",
    "    # TO DO: display the most common month\n",
    "    print(\"The most common month : \", df['month'].mode()[0])\n",
    "\n",
    "    # TO DO: display the most common day of week\n",
    "    print(\"The most common day of week : \", df['day_of_week'].mode()[0])\n",
    "\n",
    "    # TO DO: display the most common start hour\n",
    "    print(\"The most common start hour : \", df['Start Time'].dt.hour.mode()[0])\n",
    "\n",
    "    print(\"\\nThis took %s seconds.\" % (time.time() - start_time))\n",
    "    print('-' * 40)\n"
   ]
  },
  {
   "cell_type": "code",
   "execution_count": 172,
   "metadata": {},
   "outputs": [
    {
     "name": "stdout",
     "output_type": "stream",
     "text": [
      "\n",
      "Calculating The Most Frequent Times of Travel...\n",
      "\n",
      "The most common month :  6\n",
      "The most common day of week :  Wednesday\n",
      "The most common start hour :  17\n",
      "\n",
      "This took 0.1280040740966797 seconds.\n",
      "----------------------------------------\n"
     ]
    }
   ],
   "source": [
    "time_stats(df)"
   ]
  },
  {
   "cell_type": "code",
   "execution_count": 173,
   "metadata": {},
   "outputs": [],
   "source": [
    "def station_stats(df):\n",
    "    \"\"\"Displays statistics on the most popular stations and trip.\"\"\"\n",
    "\n",
    "    print('\\nCalculating The Most Popular Stations and Trip...\\n')\n",
    "    start_time = time.time()\n",
    "\n",
    "    # TO DO: display most commonly used start station\n",
    "    print(\"The most commonly used start station : \", df['Start Station'].mode()[0])\n",
    "\n",
    "    # TO DO: display most commonly used end station\n",
    "    print(\"The most commonly used end station : \", df['End Station'].mode()[0])\n",
    "\n",
    "    # TO DO: display most frequent combination of start station and end station trip\n",
    "    print(\"The most most frequent combination of start station and end station trip : \\nStart Station : \", df[[\"Start Station\",\"End Station\"]].mode()['Start Station'][0],\"\\nEnd Station : \",df[[\"Start Station\",\"End Station\"]].mode()['End Station'][0])\n",
    "\n",
    "    print(\"\\nThis took %s seconds.\" % (time.time() - start_time))\n",
    "    print('-' * 40)"
   ]
  },
  {
   "cell_type": "code",
   "execution_count": 174,
   "metadata": {},
   "outputs": [
    {
     "name": "stdout",
     "output_type": "stream",
     "text": [
      "\n",
      "Calculating The Most Popular Stations and Trip...\n",
      "\n",
      "The most commonly used start station :  Pershing Square North\n",
      "The most commonly used end station :  Pershing Square North\n",
      "The most most frequent combination of start station and end station trip : \n",
      "Start Station :  Pershing Square North \n",
      "End Station :  Pershing Square North\n",
      "\n",
      "This took 0.2799687385559082 seconds.\n",
      "----------------------------------------\n"
     ]
    }
   ],
   "source": [
    "station_stats(df)"
   ]
  },
  {
   "cell_type": "code",
   "execution_count": 175,
   "metadata": {},
   "outputs": [
    {
     "name": "stdout",
     "output_type": "stream",
     "text": [
      "<class 'pandas.core.frame.DataFrame'>\n",
      "RangeIndex: 300000 entries, 0 to 299999\n",
      "Data columns (total 11 columns):\n",
      " #   Column         Non-Null Count   Dtype         \n",
      "---  ------         --------------   -----         \n",
      " 0   Unnamed: 0     300000 non-null  int64         \n",
      " 1   Start Time     300000 non-null  datetime64[ns]\n",
      " 2   End Time       300000 non-null  object        \n",
      " 3   Trip Duration  300000 non-null  int64         \n",
      " 4   Start Station  300000 non-null  object        \n",
      " 5   End Station    300000 non-null  object        \n",
      " 6   User Type      299308 non-null  object        \n",
      " 7   Gender         270791 non-null  object        \n",
      " 8   Birth Year     271780 non-null  float64       \n",
      " 9   month          300000 non-null  int64         \n",
      " 10  day_of_week    300000 non-null  object        \n",
      "dtypes: datetime64[ns](1), float64(1), int64(3), object(6)\n",
      "memory usage: 25.2+ MB\n"
     ]
    }
   ],
   "source": [
    "df.info()"
   ]
  },
  {
   "cell_type": "code",
   "execution_count": 176,
   "metadata": {},
   "outputs": [
    {
     "name": "stdout",
     "output_type": "stream",
     "text": [
      "The most most frequent combination of start station and end station trip : \n",
      "Start Station :  E 7 St & Avenue A \n",
      "End Station :  Cooper Square & E 7 St\n"
     ]
    }
   ],
   "source": [
    "Max = df.groupby(['Start Station', 'End Station']).count().max()[0]\n",
    "data = df.groupby(['Start Station', 'End Station']).count().reset_index()\n",
    "start_Station = data[data[\"User Type\"] == Max][\"Start Station\"].values[0]\n",
    "end_Station = data[data[\"User Type\"] == Max][\"End Station\"].values[0]\n",
    "print(\"The most most frequent combination of start station and end station trip : \\nStart Station : \", start_Station,\"\\nEnd Station : \", end_Station)"
   ]
  },
  {
   "cell_type": "code",
   "execution_count": 177,
   "metadata": {},
   "outputs": [],
   "source": [
    "def trip_duration_stats(df):\n",
    "    \"\"\"Displays statistics on the total and average trip duration.\"\"\"\n",
    "\n",
    "    print('\\nCalculating Trip Duration...\\n')\n",
    "    start_time = time.time()\n",
    "\n",
    "    # TO DO: display total travel time\n",
    "    print(\"The total travel time : \", df[\"Trip Duration\"].sum())\n",
    "    # TO DO: display mean travel time\n",
    "    print(\"The mean travel time : \", df[\"Trip Duration\"].mean())\n",
    "\n",
    "    print(\"\\nThis took %s seconds.\" % (time.time() - start_time))\n",
    "    print('-' * 40)\n"
   ]
  },
  {
   "cell_type": "code",
   "execution_count": 178,
   "metadata": {},
   "outputs": [
    {
     "name": "stdout",
     "output_type": "stream",
     "text": [
      "\n",
      "Calculating Trip Duration...\n",
      "\n",
      "The total travel time :  269905248\n",
      "The mean travel time :  899.68416\n",
      "\n",
      "This took 0.0 seconds.\n",
      "----------------------------------------\n"
     ]
    }
   ],
   "source": [
    "trip_duration_stats(df)"
   ]
  },
  {
   "cell_type": "code",
   "execution_count": 179,
   "metadata": {},
   "outputs": [],
   "source": [
    "def user_stats(df):\n",
    "    \"\"\"Displays statistics on bikeshare users.\"\"\"\n",
    "\n",
    "    print('\\nCalculating User Stats...\\n')\n",
    "    start_time = time.time()\n",
    "\n",
    "    # TO DO: Display counts of user types\n",
    "    print(\"The counts of user types :\")\n",
    "    userTypes = df['User Type'].value_counts()\n",
    "    for userType in userTypes.index:\n",
    "        print(userType, \":\", userTypes[userType])\n",
    "\n",
    "    # TO DO: Display counts of gender\n",
    "    try:\n",
    "        print(\"The counts of gender :\")\n",
    "        genderTypes = df['Gender'].value_counts()\n",
    "        for genderType in genderTypes.index:\n",
    "            print(genderType, \":\", genderTypes[genderType])\n",
    "    except:\n",
    "        print(\"No Gender Data!!!\")\n",
    "\n",
    "    # TO DO: Display earliest, most recent, and most common year of birth\n",
    "    try:\n",
    "        print(\"The earliest year of birth :\",df[\"Birth Year\"].min())\n",
    "        print(\"The most recent year of birth :\", df[\"Birth Year\"].max())\n",
    "        print(\"The most common year of birth :\", df[\"Birth Year\"].mode()[0])\n",
    "    except:\n",
    "        print(\"No Birth Year Data!!!\")\n",
    "\n",
    "    print(\"\\nThis took %s seconds.\" % (time.time() - start_time))\n",
    "    print('-' * 40)"
   ]
  },
  {
   "cell_type": "code",
   "execution_count": 180,
   "metadata": {},
   "outputs": [
    {
     "name": "stdout",
     "output_type": "stream",
     "text": [
      "\n",
      "Calculating User Stats...\n",
      "\n",
      "The counts of user types :\n",
      "Subscriber : 269149\n",
      "Customer : 30159\n",
      "The counts of gender :\n",
      "Male : 204008\n",
      "Female : 66783\n",
      "The earliest year of birth : 1885.0\n",
      "The most recent year of birth : 2001.0\n",
      "The most common year of birth : 1989.0\n",
      "\n",
      "This took 0.12004494667053223 seconds.\n",
      "----------------------------------------\n"
     ]
    }
   ],
   "source": [
    "user_stats(df)"
   ]
  },
  {
   "cell_type": "code",
   "execution_count": null,
   "metadata": {},
   "outputs": [],
   "source": []
  }
 ],
 "metadata": {
  "kernelspec": {
   "display_name": "Python 3",
   "language": "python",
   "name": "python3"
  },
  "language_info": {
   "codemirror_mode": {
    "name": "ipython",
    "version": 3
   },
   "file_extension": ".py",
   "mimetype": "text/x-python",
   "name": "python",
   "nbconvert_exporter": "python",
   "pygments_lexer": "ipython3",
   "version": "3.8.5"
  }
 },
 "nbformat": 4,
 "nbformat_minor": 4
}
